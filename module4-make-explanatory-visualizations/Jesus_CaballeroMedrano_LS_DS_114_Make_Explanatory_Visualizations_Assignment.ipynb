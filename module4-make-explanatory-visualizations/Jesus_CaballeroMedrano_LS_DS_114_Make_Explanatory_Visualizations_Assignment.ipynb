{
  "nbformat": 4,
  "nbformat_minor": 0,
  "metadata": {
    "colab": {
      "name": "Jesus_CaballeroMedrano_LS_DS_114_Make_Explanatory_Visualizations_Assignment.ipynb",
      "provenance": [],
      "collapsed_sections": [],
      "include_colab_link": true
    },
    "language_info": {
      "codemirror_mode": {
        "name": "ipython",
        "version": 3
      },
      "file_extension": ".py",
      "mimetype": "text/x-python",
      "name": "python",
      "nbconvert_exporter": "python",
      "pygments_lexer": "ipython3",
      "version": "3.7.1"
    },
    "kernelspec": {
      "display_name": "Python 3",
      "language": "python",
      "name": "python3"
    }
  },
  "cells": [
    {
      "cell_type": "markdown",
      "metadata": {
        "id": "view-in-github",
        "colab_type": "text"
      },
      "source": [
        "<a href=\"https://colab.research.google.com/github/CodingDuckmx/DS-Unit-1-Sprint-1-Data-Wrangling-and-Storytelling/blob/master/module4-make-explanatory-visualizations/Jesus_CaballeroMedrano_LS_DS_114_Make_Explanatory_Visualizations_Assignment.ipynb\" target=\"_parent\"><img src=\"https://colab.research.google.com/assets/colab-badge.svg\" alt=\"Open In Colab\"/></a>"
      ]
    },
    {
      "cell_type": "markdown",
      "metadata": {
        "colab_type": "text",
        "id": "NMEswXWh9mqw"
      },
      "source": [
        "Lambda School Data Science\n",
        "\n",
        "*Unit 1, Sprint 1, Module 4*\n",
        "\n",
        "---\n",
        "\n",
        "# ASSIGNMENT\n",
        "\n",
        "### 1) Replicate the lesson code. I recommend that you [do not copy-paste](https://docs.google.com/document/d/1ubOw9B3Hfip27hF2ZFnW3a3z9xAgrUDRReOEo-FHCVs/edit).\n",
        "\n",
        "Get caught up to where we got our example in class and then try and take things further. How close to \"pixel perfect\" can you make the lecture graph?\n",
        "\n",
        "Once you have something that you're proud of, share your graph in the cohort channel and move on to the second exercise.\n",
        "\n",
        "### 2) Reproduce another example from [FiveThityEight's shared data repository](https://data.fivethirtyeight.com/).\n",
        "\n",
        "**WARNING**: There are a lot of very custom graphs and tables at the above link. I **highly** recommend not trying to reproduce any that look like a table of values or something really different from the graph types that we are already familiar with. Search through the posts until you find a graph type that you are more or less familiar with: histogram, bar chart, stacked bar chart, line chart, [seaborn relplot](https://seaborn.pydata.org/generated/seaborn.relplot.html), etc. Recreating some of the graphics that 538 uses would be a lot easier in Adobe photoshop/illustrator than with matplotlib. \n",
        "\n",
        "- If you put in some time to find a graph that looks \"easy\" to replicate you'll probably find that it's not as easy as you thought. \n",
        "\n",
        "- If you start with a graph that looks hard to replicate you'll probably run up against a brick wall and be disappointed with your afternoon.\n",
        "\n",
        "\n",
        "\n",
        "\n",
        "\n",
        "\n",
        "\n",
        "\n",
        "\n",
        "\n"
      ]
    },
    {
      "cell_type": "code",
      "metadata": {
        "id": "7SY1ZHawyZvz",
        "colab_type": "code",
        "colab": {
          "resources": {
            "http://localhost:8080/nbextensions/google.colab/files.js": {
              "data": "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",
              "ok": true,
              "headers": [
                [
                  "content-type",
                  "application/javascript"
                ]
              ],
              "status": 200,
              "status_text": "OK"
            }
          },
          "base_uri": "https://localhost:8080/",
          "height": 76
        },
        "outputId": "f3fbcc4f-e200-494c-c003-d8d29d52d5be"
      },
      "source": [
        "# Your Work Here\n",
        "\n",
        "from google.colab import files \n",
        "uploaded = files.upload()"
      ],
      "execution_count": 2,
      "outputs": [
        {
          "output_type": "display_data",
          "data": {
            "text/html": [
              "\n",
              "     <input type=\"file\" id=\"files-73c37a22-46c8-4605-95a6-9d46971818fc\" name=\"files[]\" multiple disabled />\n",
              "     <output id=\"result-73c37a22-46c8-4605-95a6-9d46971818fc\">\n",
              "      Upload widget is only available when the cell has been executed in the\n",
              "      current browser session. Please rerun this cell to enable.\n",
              "      </output>\n",
              "      <script src=\"/nbextensions/google.colab/files.js\"></script> "
            ],
            "text/plain": [
              "<IPython.core.display.HTML object>"
            ]
          },
          "metadata": {
            "tags": []
          }
        },
        {
          "output_type": "stream",
          "text": [
            "Saving congress-terms.csv to congress-terms.csv\n"
          ],
          "name": "stdout"
        }
      ]
    },
    {
      "cell_type": "code",
      "metadata": {
        "id": "U3yyNCVc8Y5l",
        "colab_type": "code",
        "colab": {
          "base_uri": "https://localhost:8080/",
          "height": 206
        },
        "outputId": "b352c749-5321-421f-8312-eaf77b6b0e7a"
      },
      "source": [
        "import pandas as pd\n",
        "\n",
        "\n",
        "df = pd.read_csv('congress-terms.csv')\n",
        "\n",
        "df.head()"
      ],
      "execution_count": 116,
      "outputs": [
        {
          "output_type": "execute_result",
          "data": {
            "text/html": [
              "<div>\n",
              "<style scoped>\n",
              "    .dataframe tbody tr th:only-of-type {\n",
              "        vertical-align: middle;\n",
              "    }\n",
              "\n",
              "    .dataframe tbody tr th {\n",
              "        vertical-align: top;\n",
              "    }\n",
              "\n",
              "    .dataframe thead th {\n",
              "        text-align: right;\n",
              "    }\n",
              "</style>\n",
              "<table border=\"1\" class=\"dataframe\">\n",
              "  <thead>\n",
              "    <tr style=\"text-align: right;\">\n",
              "      <th></th>\n",
              "      <th>congress</th>\n",
              "      <th>chamber</th>\n",
              "      <th>bioguide</th>\n",
              "      <th>firstname</th>\n",
              "      <th>middlename</th>\n",
              "      <th>lastname</th>\n",
              "      <th>suffix</th>\n",
              "      <th>birthday</th>\n",
              "      <th>state</th>\n",
              "      <th>party</th>\n",
              "      <th>incumbent</th>\n",
              "      <th>termstart</th>\n",
              "      <th>age</th>\n",
              "    </tr>\n",
              "  </thead>\n",
              "  <tbody>\n",
              "    <tr>\n",
              "      <th>0</th>\n",
              "      <td>80</td>\n",
              "      <td>house</td>\n",
              "      <td>M000112</td>\n",
              "      <td>Joseph</td>\n",
              "      <td>Jefferson</td>\n",
              "      <td>Mansfield</td>\n",
              "      <td>NaN</td>\n",
              "      <td>1861-02-09</td>\n",
              "      <td>TX</td>\n",
              "      <td>D</td>\n",
              "      <td>Yes</td>\n",
              "      <td>1947-01-03</td>\n",
              "      <td>85.9</td>\n",
              "    </tr>\n",
              "    <tr>\n",
              "      <th>1</th>\n",
              "      <td>80</td>\n",
              "      <td>house</td>\n",
              "      <td>D000448</td>\n",
              "      <td>Robert</td>\n",
              "      <td>Lee</td>\n",
              "      <td>Doughton</td>\n",
              "      <td>NaN</td>\n",
              "      <td>1863-11-07</td>\n",
              "      <td>NC</td>\n",
              "      <td>D</td>\n",
              "      <td>Yes</td>\n",
              "      <td>1947-01-03</td>\n",
              "      <td>83.2</td>\n",
              "    </tr>\n",
              "    <tr>\n",
              "      <th>2</th>\n",
              "      <td>80</td>\n",
              "      <td>house</td>\n",
              "      <td>S000001</td>\n",
              "      <td>Adolph</td>\n",
              "      <td>Joachim</td>\n",
              "      <td>Sabath</td>\n",
              "      <td>NaN</td>\n",
              "      <td>1866-04-04</td>\n",
              "      <td>IL</td>\n",
              "      <td>D</td>\n",
              "      <td>Yes</td>\n",
              "      <td>1947-01-03</td>\n",
              "      <td>80.7</td>\n",
              "    </tr>\n",
              "    <tr>\n",
              "      <th>3</th>\n",
              "      <td>80</td>\n",
              "      <td>house</td>\n",
              "      <td>E000023</td>\n",
              "      <td>Charles</td>\n",
              "      <td>Aubrey</td>\n",
              "      <td>Eaton</td>\n",
              "      <td>NaN</td>\n",
              "      <td>1868-03-29</td>\n",
              "      <td>NJ</td>\n",
              "      <td>R</td>\n",
              "      <td>Yes</td>\n",
              "      <td>1947-01-03</td>\n",
              "      <td>78.8</td>\n",
              "    </tr>\n",
              "    <tr>\n",
              "      <th>4</th>\n",
              "      <td>80</td>\n",
              "      <td>house</td>\n",
              "      <td>L000296</td>\n",
              "      <td>William</td>\n",
              "      <td>NaN</td>\n",
              "      <td>Lewis</td>\n",
              "      <td>NaN</td>\n",
              "      <td>1868-09-22</td>\n",
              "      <td>KY</td>\n",
              "      <td>R</td>\n",
              "      <td>No</td>\n",
              "      <td>1947-01-03</td>\n",
              "      <td>78.3</td>\n",
              "    </tr>\n",
              "  </tbody>\n",
              "</table>\n",
              "</div>"
            ],
            "text/plain": [
              "   congress chamber bioguide firstname  ... party incumbent   termstart   age\n",
              "0        80   house  M000112    Joseph  ...     D       Yes  1947-01-03  85.9\n",
              "1        80   house  D000448    Robert  ...     D       Yes  1947-01-03  83.2\n",
              "2        80   house  S000001    Adolph  ...     D       Yes  1947-01-03  80.7\n",
              "3        80   house  E000023   Charles  ...     R       Yes  1947-01-03  78.8\n",
              "4        80   house  L000296   William  ...     R        No  1947-01-03  78.3\n",
              "\n",
              "[5 rows x 13 columns]"
            ]
          },
          "metadata": {
            "tags": []
          },
          "execution_count": 116
        }
      ]
    },
    {
      "cell_type": "code",
      "metadata": {
        "id": "bxllmOQiYY5Q",
        "colab_type": "code",
        "colab": {
          "base_uri": "https://localhost:8080/",
          "height": 206
        },
        "outputId": "b3601348-f71f-4199-91c5-0ad7d939bb16"
      },
      "source": [
        "df['year'] = pd.to_datetime(df['termstart'],infer_datetime_format=True).dt.year\n",
        "\n",
        "df.head()"
      ],
      "execution_count": 126,
      "outputs": [
        {
          "output_type": "execute_result",
          "data": {
            "text/html": [
              "<div>\n",
              "<style scoped>\n",
              "    .dataframe tbody tr th:only-of-type {\n",
              "        vertical-align: middle;\n",
              "    }\n",
              "\n",
              "    .dataframe tbody tr th {\n",
              "        vertical-align: top;\n",
              "    }\n",
              "\n",
              "    .dataframe thead th {\n",
              "        text-align: right;\n",
              "    }\n",
              "</style>\n",
              "<table border=\"1\" class=\"dataframe\">\n",
              "  <thead>\n",
              "    <tr style=\"text-align: right;\">\n",
              "      <th></th>\n",
              "      <th>congress</th>\n",
              "      <th>chamber</th>\n",
              "      <th>bioguide</th>\n",
              "      <th>firstname</th>\n",
              "      <th>middlename</th>\n",
              "      <th>lastname</th>\n",
              "      <th>suffix</th>\n",
              "      <th>birthday</th>\n",
              "      <th>state</th>\n",
              "      <th>party</th>\n",
              "      <th>incumbent</th>\n",
              "      <th>termstart</th>\n",
              "      <th>age</th>\n",
              "      <th>year</th>\n",
              "    </tr>\n",
              "  </thead>\n",
              "  <tbody>\n",
              "    <tr>\n",
              "      <th>0</th>\n",
              "      <td>80</td>\n",
              "      <td>house</td>\n",
              "      <td>M000112</td>\n",
              "      <td>Joseph</td>\n",
              "      <td>Jefferson</td>\n",
              "      <td>Mansfield</td>\n",
              "      <td>NaN</td>\n",
              "      <td>1861-02-09</td>\n",
              "      <td>TX</td>\n",
              "      <td>D</td>\n",
              "      <td>Yes</td>\n",
              "      <td>1947-01-03</td>\n",
              "      <td>85.9</td>\n",
              "      <td>1947</td>\n",
              "    </tr>\n",
              "    <tr>\n",
              "      <th>1</th>\n",
              "      <td>80</td>\n",
              "      <td>house</td>\n",
              "      <td>D000448</td>\n",
              "      <td>Robert</td>\n",
              "      <td>Lee</td>\n",
              "      <td>Doughton</td>\n",
              "      <td>NaN</td>\n",
              "      <td>1863-11-07</td>\n",
              "      <td>NC</td>\n",
              "      <td>D</td>\n",
              "      <td>Yes</td>\n",
              "      <td>1947-01-03</td>\n",
              "      <td>83.2</td>\n",
              "      <td>1947</td>\n",
              "    </tr>\n",
              "    <tr>\n",
              "      <th>2</th>\n",
              "      <td>80</td>\n",
              "      <td>house</td>\n",
              "      <td>S000001</td>\n",
              "      <td>Adolph</td>\n",
              "      <td>Joachim</td>\n",
              "      <td>Sabath</td>\n",
              "      <td>NaN</td>\n",
              "      <td>1866-04-04</td>\n",
              "      <td>IL</td>\n",
              "      <td>D</td>\n",
              "      <td>Yes</td>\n",
              "      <td>1947-01-03</td>\n",
              "      <td>80.7</td>\n",
              "      <td>1947</td>\n",
              "    </tr>\n",
              "    <tr>\n",
              "      <th>3</th>\n",
              "      <td>80</td>\n",
              "      <td>house</td>\n",
              "      <td>E000023</td>\n",
              "      <td>Charles</td>\n",
              "      <td>Aubrey</td>\n",
              "      <td>Eaton</td>\n",
              "      <td>NaN</td>\n",
              "      <td>1868-03-29</td>\n",
              "      <td>NJ</td>\n",
              "      <td>R</td>\n",
              "      <td>Yes</td>\n",
              "      <td>1947-01-03</td>\n",
              "      <td>78.8</td>\n",
              "      <td>1947</td>\n",
              "    </tr>\n",
              "    <tr>\n",
              "      <th>4</th>\n",
              "      <td>80</td>\n",
              "      <td>house</td>\n",
              "      <td>L000296</td>\n",
              "      <td>William</td>\n",
              "      <td>NaN</td>\n",
              "      <td>Lewis</td>\n",
              "      <td>NaN</td>\n",
              "      <td>1868-09-22</td>\n",
              "      <td>KY</td>\n",
              "      <td>R</td>\n",
              "      <td>No</td>\n",
              "      <td>1947-01-03</td>\n",
              "      <td>78.3</td>\n",
              "      <td>1947</td>\n",
              "    </tr>\n",
              "  </tbody>\n",
              "</table>\n",
              "</div>"
            ],
            "text/plain": [
              "   congress chamber bioguide firstname  ... incumbent   termstart   age  year\n",
              "0        80   house  M000112    Joseph  ...       Yes  1947-01-03  85.9  1947\n",
              "1        80   house  D000448    Robert  ...       Yes  1947-01-03  83.2  1947\n",
              "2        80   house  S000001    Adolph  ...       Yes  1947-01-03  80.7  1947\n",
              "3        80   house  E000023   Charles  ...       Yes  1947-01-03  78.8  1947\n",
              "4        80   house  L000296   William  ...        No  1947-01-03  78.3  1947\n",
              "\n",
              "[5 rows x 14 columns]"
            ]
          },
          "metadata": {
            "tags": []
          },
          "execution_count": 126
        }
      ]
    },
    {
      "cell_type": "code",
      "metadata": {
        "id": "0cKDs02JLyco",
        "colab_type": "code",
        "colab": {
          "base_uri": "https://localhost:8080/",
          "height": 267
        },
        "outputId": "cc162d35-d6cc-4d3b-893d-2b31a32f996e"
      },
      "source": [
        "#Fisrt we select only the data required.\n",
        "df3 = df[['party','year','age']]\n",
        "\n",
        "\n",
        "#Define conditionals for the party they belong\n",
        "conddem = (df['party'] == 'D')\n",
        "\n",
        "condrep = (df['party'] == 'R')\n",
        "\n",
        "#Build the df of each party\n",
        "\n",
        "tabledem = df[conddem][['year','age']]\n",
        "tablerep = df[condrep][['year','age']]\n",
        "\n",
        "#Then make a pivot table to obtain the main values, for each df.\n",
        "\n",
        "meanagesdem = pd.pivot_table(tabledem, values='age', index='year', aggfunc='mean')\n",
        "\n",
        "meanagesrep = pd.pivot_table(tablerep, values='age', index='year', aggfunc='mean')\n",
        "\n",
        "print(meanagesdem.head())\n",
        "\n",
        "\n",
        "print(meanagesrep.head())"
      ],
      "execution_count": 173,
      "outputs": [
        {
          "output_type": "stream",
          "text": [
            "            age\n",
            "year           \n",
            "1947  52.006883\n",
            "1949  51.430303\n",
            "1951  52.295890\n",
            "1953  52.258029\n",
            "1955  52.254861\n",
            "            age\n",
            "year           \n",
            "1947  52.969608\n",
            "1949  54.603571\n",
            "1951  54.330268\n",
            "1953  54.088571\n",
            "1955  54.737945\n"
          ],
          "name": "stdout"
        }
      ]
    },
    {
      "cell_type": "code",
      "metadata": {
        "id": "YC1QMdxSjKaJ",
        "colab_type": "code",
        "colab": {
          "base_uri": "https://localhost:8080/",
          "height": 323
        },
        "outputId": "9366644e-88d5-4b85-88e2-ca5f19e9483a"
      },
      "source": [
        "#plot\n",
        "\n",
        "import matplotlib\n",
        "import matplotlib.pyplot as plt\n",
        "import numpy as np\n",
        "\n",
        "\n",
        "#I tried to change the font with no success. \n",
        "# from matplotlib import rcParams\n",
        "\n",
        "# rcParams['font.family']='sans-serif'\n",
        "# rcParams['font.sans-serif']=['Verdana']\n",
        "\n",
        "\n",
        "plt.style.use('fivethirtyeight')\n",
        "fig, ax = plt.subplots()\n",
        "ax.plot(meanagesdem.index,meanagesdem['age'], color ='#148DC1')\n",
        "\n",
        "\n",
        "#title\n",
        "\n",
        "ax.set_title('Average Age of Members of Congress',\n",
        "             loc='left',\n",
        "             color='black',\n",
        "             fontsize=15,\n",
        "             fontweight='demibold',\n",
        "             x=-0.07,\n",
        "             y=1.1)\n",
        "\n",
        "#subtitle\n",
        "\n",
        "fig.suptitle('At start of term, 1947-2013',\n",
        "             x=0.23,\n",
        "             y=0.96,\n",
        "             fontsize=13)\n",
        "\n",
        "# text(0.26, 3, s='Democrats',\n",
        "#              fontsize=13,\n",
        "#              color='C6')\n",
        "\n",
        "#set x axis ticks\n",
        "\n",
        "ax.set_xticks(range(1950,2020,10))\n",
        "\n",
        "# x axis tick labels\n",
        "ax.set_xticklabels(labels=[\"1950\",\"'60\",\"'70\",\"'80\",\"'90\",\"2000\",\"'10\"])\n",
        "\n",
        "\n",
        "#set y axis ticks\n",
        "\n",
        "ax.set_yticks(range(40,65,5))\n",
        "\n",
        "#y axis tick labels\n",
        "ax.set_yticklabels(labels=[\"40\",\"45\",\"50\",\"55\",\"60 yrs\"])\n",
        "\n",
        "# set figure background color\n",
        "fig.set_facecolor(color=\"white\")\n",
        "ax.set_facecolor(color='white')\n",
        "\n",
        "\n",
        "fig.text(0.3, 0.8, 'Democrats', horizontalalignment='center',\n",
        "    verticalalignment='center', transform=ax.transAxes, color= '#148DC1')\n",
        "\n",
        "plt.show()"
      ],
      "execution_count": 244,
      "outputs": [
        {
          "output_type": "display_data",
          "data": {
            "image/png": "[encoded data removed]",
            "text/plain": [
              "<Figure size 432x288 with 1 Axes>"
            ]
          },
          "metadata": {
            "tags": []
          }
        }
      ]
    },
    {
      "cell_type": "code",
      "metadata": {
        "id": "YjxYOLZsfWQZ",
        "colab_type": "code",
        "colab": {
          "base_uri": "https://localhost:8080/",
          "height": 323
        },
        "outputId": "ce18d04b-7bcb-43e8-e25b-6c867595c11d"
      },
      "source": [
        "plt.style.use('fivethirtyeight')\n",
        "fig, ax = plt.subplots()\n",
        "ax.plot(meanagesrep.index,meanagesdem['age'], color='#E33212')\n",
        "\n",
        "\n",
        "#title\n",
        "\n",
        "ax.set_title('Average Age of Members of Congress',\n",
        "             loc='left',\n",
        "             color='black',\n",
        "             fontsize=15,\n",
        "             fontweight='demibold',\n",
        "             x=-0.07,\n",
        "             y=1.1)\n",
        "\n",
        "#subtitle\n",
        "\n",
        "fig.suptitle('At start of term, 1947-2013',\n",
        "             x=0.23,\n",
        "             y=0.96,\n",
        "             fontsize=13)\n",
        "\n",
        "# text(0.26, 3, s='Democrats',\n",
        "#              fontsize=13,\n",
        "#              color='C6')\n",
        "\n",
        "#set x axis ticks\n",
        "\n",
        "ax.set_xticks(range(1950,2020,10))\n",
        "\n",
        "# x axis tick labels\n",
        "ax.set_xticklabels(labels=[\"1950\",\"'60\",\"'70\",\"'80\",\"'90\",\"2000\",\"'10\"])\n",
        "\n",
        "\n",
        "#set y axis ticks\n",
        "\n",
        "ax.set_yticks(range(40,65,5))\n",
        "\n",
        "#y axis tick labels\n",
        "ax.set_yticklabels(labels=[\"40\",\"45\",\"50\",\"55\",\"60 yrs\"])\n",
        "\n",
        "# set figure background color\n",
        "fig.set_facecolor(color=\"white\")\n",
        "ax.set_facecolor(color='white')\n",
        "\n",
        "\n",
        "\n",
        "\n",
        "fig.text(0.3, 0.8, 'Republicans', horizontalalignment='center',\n",
        "    verticalalignment='center', transform=ax.transAxes, color= '#E33212')\n",
        "\n",
        "plt.show()"
      ],
      "execution_count": 243,
      "outputs": [
        {
          "output_type": "display_data",
          "data": {
            "image/png": "[encoded data removed]",
            "text/plain": [
              "<Figure size 432x288 with 1 Axes>"
            ]
          },
          "metadata": {
            "tags": []
          }
        }
      ]
    },
    {
      "cell_type": "code",
      "metadata": {
        "id": "yMWCkEj2fpXj",
        "colab_type": "code",
        "colab": {
          "base_uri": "https://localhost:8080/",
          "height": 206
        },
        "outputId": "9b0b9045-2aa5-46c0-e020-57e8282a51fc"
      },
      "source": [
        " repdata = meanagesrep.reset_index()\n",
        "\n",
        " repdata.head()\n",
        "\n",
        " demdata = meanagesdem.reset_index()\n",
        "\n",
        "demdata.head()\n",
        "\n",
        "globaldata = demdata.merge(repdata, on = 'year')\n",
        "\n",
        "globaldata.head()\n",
        "\n",
        "# fig, ax = plt.subplots()\n",
        "# ax.plot(globaldata[['year','age_x']],globaldata[['year','age_y']])\n",
        "\n",
        "\n",
        "# plt.show()\n"
      ],
      "execution_count": 245,
      "outputs": [
        {
          "output_type": "execute_result",
          "data": {
            "text/html": [
              "<div>\n",
              "<style scoped>\n",
              "    .dataframe tbody tr th:only-of-type {\n",
              "        vertical-align: middle;\n",
              "    }\n",
              "\n",
              "    .dataframe tbody tr th {\n",
              "        vertical-align: top;\n",
              "    }\n",
              "\n",
              "    .dataframe thead th {\n",
              "        text-align: right;\n",
              "    }\n",
              "</style>\n",
              "<table border=\"1\" class=\"dataframe\">\n",
              "  <thead>\n",
              "    <tr style=\"text-align: right;\">\n",
              "      <th></th>\n",
              "      <th>year</th>\n",
              "      <th>age_x</th>\n",
              "      <th>age_y</th>\n",
              "    </tr>\n",
              "  </thead>\n",
              "  <tbody>\n",
              "    <tr>\n",
              "      <th>0</th>\n",
              "      <td>1947</td>\n",
              "      <td>52.006883</td>\n",
              "      <td>52.969608</td>\n",
              "    </tr>\n",
              "    <tr>\n",
              "      <th>1</th>\n",
              "      <td>1949</td>\n",
              "      <td>51.430303</td>\n",
              "      <td>54.603571</td>\n",
              "    </tr>\n",
              "    <tr>\n",
              "      <th>2</th>\n",
              "      <td>1951</td>\n",
              "      <td>52.295890</td>\n",
              "      <td>54.330268</td>\n",
              "    </tr>\n",
              "    <tr>\n",
              "      <th>3</th>\n",
              "      <td>1953</td>\n",
              "      <td>52.258029</td>\n",
              "      <td>54.088571</td>\n",
              "    </tr>\n",
              "    <tr>\n",
              "      <th>4</th>\n",
              "      <td>1955</td>\n",
              "      <td>52.254861</td>\n",
              "      <td>54.737945</td>\n",
              "    </tr>\n",
              "  </tbody>\n",
              "</table>\n",
              "</div>"
            ],
            "text/plain": [
              "   year      age_x      age_y\n",
              "0  1947  52.006883  52.969608\n",
              "1  1949  51.430303  54.603571\n",
              "2  1951  52.295890  54.330268\n",
              "3  1953  52.258029  54.088571\n",
              "4  1955  52.254861  54.737945"
            ]
          },
          "metadata": {
            "tags": []
          },
          "execution_count": 245
        }
      ]
    },
    {
      "cell_type": "code",
      "metadata": {
        "id": "b9M_SozZvydY",
        "colab_type": "code",
        "colab": {
          "base_uri": "https://localhost:8080/",
          "height": 346
        },
        "outputId": "e6c6282d-a65e-40ca-dc84-db199bbe5721"
      },
      "source": [
        "\n",
        "plt.style.use('fivethirtyeight')\n",
        "fig, ax = plt.subplots()\n",
        "\n",
        "x = globaldata['year']\n",
        "y1= globaldata['age_x']\n",
        "y2= globaldata['age_y']\n",
        "\n",
        "\n",
        "ax.plot(x,y1, color='#148DC1')\n",
        "ax.plot(x,y2, color='#E33212' )\n",
        "\n",
        "\n",
        "#title\n",
        "\n",
        "ax.set_title('Average Age of Members of Congress',\n",
        "             loc='left',\n",
        "             color='black',\n",
        "             fontsize=15,\n",
        "             fontweight='demibold',\n",
        "             x=-0.07,\n",
        "             y=1.1)\n",
        "\n",
        "#subtitle\n",
        "\n",
        "fig.suptitle('At start of term, 1947-2013',\n",
        "             x=0.23,\n",
        "             y=0.96,\n",
        "             fontsize=13)\n",
        "\n",
        "# text(0.26, 3, s='Democrats',\n",
        "#              fontsize=13,\n",
        "#              color='C6')\n",
        "\n",
        "#set x axis ticks\n",
        "\n",
        "ax.set_xticks(range(1950,2020,10))\n",
        "\n",
        "# x axis tick labels\n",
        "ax.set_xticklabels(labels=[\"1950\",\"'60\",\"'70\",\"'80\",\"'90\",\"2000\",\"'10\"])\n",
        "\n",
        "\n",
        "#set y axis ticks\n",
        "\n",
        "ax.set_yticks(range(40,65,5))\n",
        "\n",
        "#y axis tick labels\n",
        "ax.set_yticklabels(labels=[\"40\",\"45\",\"50\",\"55\",\"60 yrs\"])\n",
        "\n",
        "# set figure background color\n",
        "# fig.set_facecolor(color=\"white\")\n",
        "# ax.set_facecolor(color='white')\n",
        "\n",
        "\n",
        "\n",
        "\n",
        "fig.text(0.3, 0.8, 'Republicans', horizontalalignment='center',\n",
        "    verticalalignment='center', transform=ax.transAxes, color= '#E33212')\n",
        "\n",
        "fig.text(0.65, 0.8, 'Democrats', horizontalalignment='center',\n",
        "    verticalalignment='center', transform=ax.transAxes, color= '#148DC1')\n",
        "\n",
        "\n",
        "\n",
        "fig.suptitle('SOURCE: GOVTRACK, THE NEW YORK TIMES, SUNLIGHT FOUNDATION', x=0.6, y=-0.04, fontsize=8, color ='gray')\n",
        "\n",
        "plt.show()\n",
        "\n",
        "\n",
        "\n"
      ],
      "execution_count": 258,
      "outputs": [
        {
          "output_type": "display_data",
          "data": {
            "image/png": "[encoded data removed]",
            "text/plain": [
              "<Figure size 432x288 with 1 Axes>"
            ]
          },
          "metadata": {
            "tags": []
          }
        }
      ]
    },
    {
      "cell_type": "markdown",
      "metadata": {
        "id": "0wSrBzmJyWaV",
        "colab_type": "text"
      },
      "source": [
        "# STRETCH OPTIONS\n",
        "\n",
        "### 1) Reproduce one of the following using the matplotlib or seaborn libraries:\n",
        "\n",
        "- [thanksgiving-2015](https://fivethirtyeight.com/features/heres-what-your-part-of-america-eats-on-thanksgiving/) \n",
        "- [candy-power-ranking](https://fivethirtyeight.com/features/the-ultimate-halloween-candy-power-ranking/) \n",
        "- or another example of your choice!\n",
        "\n",
        "### 2) Make more charts!\n",
        "\n",
        "Choose a chart you want to make, from [Visual Vocabulary - Vega Edition](http://ft.com/vocabulary).\n",
        "\n",
        "Find the chart in an example gallery of a Python data visualization library:\n",
        "- [Seaborn](http://seaborn.pydata.org/examples/index.html)\n",
        "- [Altair](https://altair-viz.github.io/gallery/index.html)\n",
        "- [Matplotlib](https://matplotlib.org/gallery.html)\n",
        "- [Pandas](https://pandas.pydata.org/pandas-docs/stable/visualization.html)\n",
        "\n",
        "Reproduce the chart. [Optionally, try the \"Ben Franklin Method.\"](https://docs.google.com/document/d/1ubOw9B3Hfip27hF2ZFnW3a3z9xAgrUDRReOEo-FHCVs/edit) If you want, experiment and make changes.\n",
        "\n",
        "Take notes. Consider sharing your work with your cohort!"
      ]
    },
    {
      "cell_type": "code",
      "metadata": {
        "id": "dRJkKftiy5BJ",
        "colab_type": "code",
        "colab": {}
      },
      "source": [
        "# More Work Here"
      ],
      "execution_count": 0,
      "outputs": []
    }
  ]
}